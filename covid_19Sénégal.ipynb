{
 "cells": [
  {
   "cell_type": "markdown",
   "metadata": {},
   "source": [
    "# QUESTION1:\n",
    "Enrigistrer les données dans un format adapté pour une lecture par la suite avec Python sachant que la première ligne du fichier correspond au noms des variables."
   ]
  },
  {
   "cell_type": "code",
   "execution_count": 31,
   "metadata": {},
   "outputs": [],
   "source": [
    "import numpy as np\n",
    "import matplotlib.pyplot as plt\n",
    "import pandas as pd\n",
    "covid_19=pd.read_csv('covid-senegal.csv',sep=';')"
   ]
  },
  {
   "cell_type": "markdown",
   "metadata": {},
   "source": [
    "# verification :"
   ]
  },
  {
   "cell_type": "code",
   "execution_count": 32,
   "metadata": {},
   "outputs": [
    {
     "data": {
      "text/html": [
       "<div>\n",
       "<style scoped>\n",
       "    .dataframe tbody tr th:only-of-type {\n",
       "        vertical-align: middle;\n",
       "    }\n",
       "\n",
       "    .dataframe tbody tr th {\n",
       "        vertical-align: top;\n",
       "    }\n",
       "\n",
       "    .dataframe thead th {\n",
       "        text-align: right;\n",
       "    }\n",
       "</style>\n",
       "<table border=\"1\" class=\"dataframe\">\n",
       "  <thead>\n",
       "    <tr style=\"text-align: right;\">\n",
       "      <th></th>\n",
       "      <th>date</th>\n",
       "      <th>tests</th>\n",
       "      <th>cas</th>\n",
       "      <th>contact</th>\n",
       "      <th>importe</th>\n",
       "      <th>communautaire</th>\n",
       "    </tr>\n",
       "  </thead>\n",
       "  <tbody>\n",
       "    <tr>\n",
       "      <th>0</th>\n",
       "      <td>02/03/2020</td>\n",
       "      <td>1.0</td>\n",
       "      <td>1</td>\n",
       "      <td>0</td>\n",
       "      <td>0</td>\n",
       "      <td>0</td>\n",
       "    </tr>\n",
       "    <tr>\n",
       "      <th>1</th>\n",
       "      <td>03/03/2020</td>\n",
       "      <td>2.0</td>\n",
       "      <td>1</td>\n",
       "      <td>0</td>\n",
       "      <td>1</td>\n",
       "      <td>0</td>\n",
       "    </tr>\n",
       "    <tr>\n",
       "      <th>2</th>\n",
       "      <td>04/03/2020</td>\n",
       "      <td>2.0</td>\n",
       "      <td>2</td>\n",
       "      <td>1</td>\n",
       "      <td>1</td>\n",
       "      <td>0</td>\n",
       "    </tr>\n",
       "    <tr>\n",
       "      <th>3</th>\n",
       "      <td>05/03/2020</td>\n",
       "      <td>NaN</td>\n",
       "      <td>0</td>\n",
       "      <td>0</td>\n",
       "      <td>0</td>\n",
       "      <td>0</td>\n",
       "    </tr>\n",
       "    <tr>\n",
       "      <th>4</th>\n",
       "      <td>06/03/2020</td>\n",
       "      <td>2.0</td>\n",
       "      <td>0</td>\n",
       "      <td>0</td>\n",
       "      <td>0</td>\n",
       "      <td>0</td>\n",
       "    </tr>\n",
       "  </tbody>\n",
       "</table>\n",
       "</div>"
      ],
      "text/plain": [
       "         date  tests  cas  contact  importe  communautaire\n",
       "0  02/03/2020    1.0    1        0        0              0\n",
       "1  03/03/2020    2.0    1        0        1              0\n",
       "2  04/03/2020    2.0    2        1        1              0\n",
       "3  05/03/2020    NaN    0        0        0              0\n",
       "4  06/03/2020    2.0    0        0        0              0"
      ]
     },
     "execution_count": 32,
     "metadata": {},
     "output_type": "execute_result"
    }
   ],
   "source": [
    "covid_19.head()"
   ]
  },
  {
   "cell_type": "markdown",
   "metadata": {},
   "source": [
    "Ici on a affiché les 5 premieres lignes pour s'assurer que notre dataframe ça marche."
   ]
  },
  {
   "cell_type": "markdown",
   "metadata": {},
   "source": [
    "#  convertissons:"
   ]
  },
  {
   "cell_type": "code",
   "execution_count": 33,
   "metadata": {},
   "outputs": [
    {
     "data": {
      "text/html": [
       "<div>\n",
       "<style scoped>\n",
       "    .dataframe tbody tr th:only-of-type {\n",
       "        vertical-align: middle;\n",
       "    }\n",
       "\n",
       "    .dataframe tbody tr th {\n",
       "        vertical-align: top;\n",
       "    }\n",
       "\n",
       "    .dataframe thead th {\n",
       "        text-align: right;\n",
       "    }\n",
       "</style>\n",
       "<table border=\"1\" class=\"dataframe\">\n",
       "  <thead>\n",
       "    <tr style=\"text-align: right;\">\n",
       "      <th></th>\n",
       "      <th>date</th>\n",
       "      <th>tests</th>\n",
       "      <th>cas</th>\n",
       "      <th>contact</th>\n",
       "      <th>importe</th>\n",
       "      <th>communautaire</th>\n",
       "    </tr>\n",
       "  </thead>\n",
       "  <tbody>\n",
       "    <tr>\n",
       "      <th>0</th>\n",
       "      <td>2020-02-03</td>\n",
       "      <td>1.0</td>\n",
       "      <td>1</td>\n",
       "      <td>0</td>\n",
       "      <td>0</td>\n",
       "      <td>0</td>\n",
       "    </tr>\n",
       "    <tr>\n",
       "      <th>1</th>\n",
       "      <td>2020-03-03</td>\n",
       "      <td>2.0</td>\n",
       "      <td>1</td>\n",
       "      <td>0</td>\n",
       "      <td>1</td>\n",
       "      <td>0</td>\n",
       "    </tr>\n",
       "    <tr>\n",
       "      <th>2</th>\n",
       "      <td>2020-04-03</td>\n",
       "      <td>2.0</td>\n",
       "      <td>2</td>\n",
       "      <td>1</td>\n",
       "      <td>1</td>\n",
       "      <td>0</td>\n",
       "    </tr>\n",
       "    <tr>\n",
       "      <th>3</th>\n",
       "      <td>2020-05-03</td>\n",
       "      <td>NaN</td>\n",
       "      <td>0</td>\n",
       "      <td>0</td>\n",
       "      <td>0</td>\n",
       "      <td>0</td>\n",
       "    </tr>\n",
       "    <tr>\n",
       "      <th>4</th>\n",
       "      <td>2020-06-03</td>\n",
       "      <td>2.0</td>\n",
       "      <td>0</td>\n",
       "      <td>0</td>\n",
       "      <td>0</td>\n",
       "      <td>0</td>\n",
       "    </tr>\n",
       "  </tbody>\n",
       "</table>\n",
       "</div>"
      ],
      "text/plain": [
       "        date  tests  cas  contact  importe  communautaire\n",
       "0 2020-02-03    1.0    1        0        0              0\n",
       "1 2020-03-03    2.0    1        0        1              0\n",
       "2 2020-04-03    2.0    2        1        1              0\n",
       "3 2020-05-03    NaN    0        0        0              0\n",
       "4 2020-06-03    2.0    0        0        0              0"
      ]
     },
     "execution_count": 33,
     "metadata": {},
     "output_type": "execute_result"
    }
   ],
   "source": [
    "covid_19['date']=pd.to_datetime(covid_19['date'])\n",
    "covid_19.head()\n"
   ]
  },
  {
   "cell_type": "markdown",
   "metadata": {},
   "source": [
    "Ici on a remplacé la colonne date par datetime dans notre dateframe"
   ]
  },
  {
   "cell_type": "markdown",
   "metadata": {},
   "source": [
    "# verification:\n"
   ]
  },
  {
   "cell_type": "code",
   "execution_count": 34,
   "metadata": {},
   "outputs": [
    {
     "data": {
      "text/html": [
       "<div>\n",
       "<style scoped>\n",
       "    .dataframe tbody tr th:only-of-type {\n",
       "        vertical-align: middle;\n",
       "    }\n",
       "\n",
       "    .dataframe tbody tr th {\n",
       "        vertical-align: top;\n",
       "    }\n",
       "\n",
       "    .dataframe thead th {\n",
       "        text-align: right;\n",
       "    }\n",
       "</style>\n",
       "<table border=\"1\" class=\"dataframe\">\n",
       "  <thead>\n",
       "    <tr style=\"text-align: right;\">\n",
       "      <th></th>\n",
       "      <th>date</th>\n",
       "      <th>tests</th>\n",
       "      <th>cas</th>\n",
       "      <th>contact</th>\n",
       "      <th>importe</th>\n",
       "      <th>communautaire</th>\n",
       "    </tr>\n",
       "  </thead>\n",
       "  <tbody>\n",
       "    <tr>\n",
       "      <th>0</th>\n",
       "      <td>2020-02-03</td>\n",
       "      <td>1.0</td>\n",
       "      <td>1</td>\n",
       "      <td>0</td>\n",
       "      <td>0</td>\n",
       "      <td>0</td>\n",
       "    </tr>\n",
       "    <tr>\n",
       "      <th>1</th>\n",
       "      <td>2020-03-03</td>\n",
       "      <td>2.0</td>\n",
       "      <td>1</td>\n",
       "      <td>0</td>\n",
       "      <td>1</td>\n",
       "      <td>0</td>\n",
       "    </tr>\n",
       "    <tr>\n",
       "      <th>2</th>\n",
       "      <td>2020-04-03</td>\n",
       "      <td>2.0</td>\n",
       "      <td>2</td>\n",
       "      <td>1</td>\n",
       "      <td>1</td>\n",
       "      <td>0</td>\n",
       "    </tr>\n",
       "    <tr>\n",
       "      <th>3</th>\n",
       "      <td>2020-05-03</td>\n",
       "      <td>NaN</td>\n",
       "      <td>0</td>\n",
       "      <td>0</td>\n",
       "      <td>0</td>\n",
       "      <td>0</td>\n",
       "    </tr>\n",
       "    <tr>\n",
       "      <th>4</th>\n",
       "      <td>2020-06-03</td>\n",
       "      <td>2.0</td>\n",
       "      <td>0</td>\n",
       "      <td>0</td>\n",
       "      <td>0</td>\n",
       "      <td>0</td>\n",
       "    </tr>\n",
       "  </tbody>\n",
       "</table>\n",
       "</div>"
      ],
      "text/plain": [
       "        date  tests  cas  contact  importe  communautaire\n",
       "0 2020-02-03    1.0    1        0        0              0\n",
       "1 2020-03-03    2.0    1        0        1              0\n",
       "2 2020-04-03    2.0    2        1        1              0\n",
       "3 2020-05-03    NaN    0        0        0              0\n",
       "4 2020-06-03    2.0    0        0        0              0"
      ]
     },
     "execution_count": 34,
     "metadata": {},
     "output_type": "execute_result"
    }
   ],
   "source": [
    "covid_19.head()"
   ]
  },
  {
   "cell_type": "markdown",
   "metadata": {},
   "source": [
    "ici on a affiché les 5 premieres lignes pour voir si notre datetime a bien remplacé notre date dans notre dateframe."
   ]
  },
  {
   "cell_type": "markdown",
   "metadata": {},
   "source": [
    " # supprimons:\n",
    " "
   ]
  },
  {
   "cell_type": "code",
   "execution_count": 35,
   "metadata": {},
   "outputs": [],
   "source": [
    "covid_19.dropna(axis=0,inplace=True)"
   ]
  },
  {
   "cell_type": "markdown",
   "metadata": {},
   "source": [
    "ici on a supprimé toutes les lignes ayant une valeur manquante."
   ]
  },
  {
   "cell_type": "markdown",
   "metadata": {},
   "source": [
    "# verification:"
   ]
  },
  {
   "cell_type": "code",
   "execution_count": 36,
   "metadata": {},
   "outputs": [
    {
     "name": "stdout",
     "output_type": "stream",
     "text": [
      "<class 'pandas.core.frame.DataFrame'>\n",
      "Int64Index: 495 entries, 0 to 495\n",
      "Data columns (total 6 columns):\n",
      " #   Column         Non-Null Count  Dtype         \n",
      "---  ------         --------------  -----         \n",
      " 0   date           495 non-null    datetime64[ns]\n",
      " 1   tests          495 non-null    float64       \n",
      " 2   cas            495 non-null    int64         \n",
      " 3   contact        495 non-null    int64         \n",
      " 4   importe        495 non-null    int64         \n",
      " 5   communautaire  495 non-null    int64         \n",
      "dtypes: datetime64[ns](1), float64(1), int64(4)\n",
      "memory usage: 27.1 KB\n"
     ]
    }
   ],
   "source": [
    "covid_19.info()"
   ]
  },
  {
   "cell_type": "markdown",
   "metadata": {},
   "source": [
    "ici on a afiché notre les informations de notre  dateframe pour voir si les ligne manquantes sont supprimées."
   ]
  },
  {
   "cell_type": "markdown",
   "metadata": {},
   "source": [
    "# QUESTION 2:\n"
   ]
  },
  {
   "cell_type": "code",
   "execution_count": 37,
   "metadata": {},
   "outputs": [],
   "source": [
    "covid_19['proportion']=covid_19['cas']*100/covid_19['tests']"
   ]
  },
  {
   "cell_type": "markdown",
   "metadata": {},
   "source": [
    "Ici on a ajouté dans notre dateframe une nouvelle variable proportion qui représente le taux de positivité journalier."
   ]
  },
  {
   "cell_type": "markdown",
   "metadata": {},
   "source": [
    "# verification:\n"
   ]
  },
  {
   "cell_type": "code",
   "execution_count": 38,
   "metadata": {},
   "outputs": [
    {
     "data": {
      "text/html": [
       "<div>\n",
       "<style scoped>\n",
       "    .dataframe tbody tr th:only-of-type {\n",
       "        vertical-align: middle;\n",
       "    }\n",
       "\n",
       "    .dataframe tbody tr th {\n",
       "        vertical-align: top;\n",
       "    }\n",
       "\n",
       "    .dataframe thead th {\n",
       "        text-align: right;\n",
       "    }\n",
       "</style>\n",
       "<table border=\"1\" class=\"dataframe\">\n",
       "  <thead>\n",
       "    <tr style=\"text-align: right;\">\n",
       "      <th></th>\n",
       "      <th>date</th>\n",
       "      <th>tests</th>\n",
       "      <th>cas</th>\n",
       "      <th>contact</th>\n",
       "      <th>importe</th>\n",
       "      <th>communautaire</th>\n",
       "      <th>proportion</th>\n",
       "    </tr>\n",
       "  </thead>\n",
       "  <tbody>\n",
       "    <tr>\n",
       "      <th>491</th>\n",
       "      <td>2021-07-07</td>\n",
       "      <td>2388.0</td>\n",
       "      <td>356</td>\n",
       "      <td>127</td>\n",
       "      <td>0</td>\n",
       "      <td>229</td>\n",
       "      <td>14.907873</td>\n",
       "    </tr>\n",
       "    <tr>\n",
       "      <th>492</th>\n",
       "      <td>2021-08-07</td>\n",
       "      <td>2166.0</td>\n",
       "      <td>354</td>\n",
       "      <td>135</td>\n",
       "      <td>1</td>\n",
       "      <td>218</td>\n",
       "      <td>16.343490</td>\n",
       "    </tr>\n",
       "    <tr>\n",
       "      <th>493</th>\n",
       "      <td>2021-09-07</td>\n",
       "      <td>2104.0</td>\n",
       "      <td>476</td>\n",
       "      <td>215</td>\n",
       "      <td>0</td>\n",
       "      <td>261</td>\n",
       "      <td>22.623574</td>\n",
       "    </tr>\n",
       "    <tr>\n",
       "      <th>494</th>\n",
       "      <td>2021-10-07</td>\n",
       "      <td>2762.0</td>\n",
       "      <td>380</td>\n",
       "      <td>136</td>\n",
       "      <td>0</td>\n",
       "      <td>234</td>\n",
       "      <td>13.758146</td>\n",
       "    </tr>\n",
       "    <tr>\n",
       "      <th>495</th>\n",
       "      <td>2021-11-07</td>\n",
       "      <td>2715.0</td>\n",
       "      <td>529</td>\n",
       "      <td>188</td>\n",
       "      <td>0</td>\n",
       "      <td>341</td>\n",
       "      <td>19.484346</td>\n",
       "    </tr>\n",
       "  </tbody>\n",
       "</table>\n",
       "</div>"
      ],
      "text/plain": [
       "          date   tests  cas  contact  importe  communautaire  proportion\n",
       "491 2021-07-07  2388.0  356      127        0            229   14.907873\n",
       "492 2021-08-07  2166.0  354      135        1            218   16.343490\n",
       "493 2021-09-07  2104.0  476      215        0            261   22.623574\n",
       "494 2021-10-07  2762.0  380      136        0            234   13.758146\n",
       "495 2021-11-07  2715.0  529      188        0            341   19.484346"
      ]
     },
     "execution_count": 38,
     "metadata": {},
     "output_type": "execute_result"
    }
   ],
   "source": [
    "covid_19.tail()"
   ]
  },
  {
   "cell_type": "markdown",
   "metadata": {},
   "source": [
    "ici on a affiché les 5 premieres lignes de notre dataframe pour voir si la variable proportion c'est bien enrigistré."
   ]
  },
  {
   "cell_type": "markdown",
   "metadata": {},
   "source": [
    "# QUESTION 3: \n"
   ]
  },
  {
   "cell_type": "code",
   "execution_count": 39,
   "metadata": {},
   "outputs": [],
   "source": [
    "covid_19['total'] =covid_19['cas'].cumsum()"
   ]
  },
  {
   "cell_type": "markdown",
   "metadata": {},
   "source": [
    "ici on a ajouté dans notre dateframe une nouvelle variable total qui représente le nombre cumulé de cas positifs du début de la pandémie jusqu’à une certaine date"
   ]
  },
  {
   "cell_type": "markdown",
   "metadata": {},
   "source": [
    "# verification:\n"
   ]
  },
  {
   "cell_type": "code",
   "execution_count": 40,
   "metadata": {},
   "outputs": [
    {
     "data": {
      "text/html": [
       "<div>\n",
       "<style scoped>\n",
       "    .dataframe tbody tr th:only-of-type {\n",
       "        vertical-align: middle;\n",
       "    }\n",
       "\n",
       "    .dataframe tbody tr th {\n",
       "        vertical-align: top;\n",
       "    }\n",
       "\n",
       "    .dataframe thead th {\n",
       "        text-align: right;\n",
       "    }\n",
       "</style>\n",
       "<table border=\"1\" class=\"dataframe\">\n",
       "  <thead>\n",
       "    <tr style=\"text-align: right;\">\n",
       "      <th></th>\n",
       "      <th>date</th>\n",
       "      <th>tests</th>\n",
       "      <th>cas</th>\n",
       "      <th>contact</th>\n",
       "      <th>importe</th>\n",
       "      <th>communautaire</th>\n",
       "      <th>proportion</th>\n",
       "      <th>total</th>\n",
       "    </tr>\n",
       "  </thead>\n",
       "  <tbody>\n",
       "    <tr>\n",
       "      <th>491</th>\n",
       "      <td>2021-07-07</td>\n",
       "      <td>2388.0</td>\n",
       "      <td>356</td>\n",
       "      <td>127</td>\n",
       "      <td>0</td>\n",
       "      <td>229</td>\n",
       "      <td>14.907873</td>\n",
       "      <td>46489</td>\n",
       "    </tr>\n",
       "    <tr>\n",
       "      <th>492</th>\n",
       "      <td>2021-08-07</td>\n",
       "      <td>2166.0</td>\n",
       "      <td>354</td>\n",
       "      <td>135</td>\n",
       "      <td>1</td>\n",
       "      <td>218</td>\n",
       "      <td>16.343490</td>\n",
       "      <td>46843</td>\n",
       "    </tr>\n",
       "    <tr>\n",
       "      <th>493</th>\n",
       "      <td>2021-09-07</td>\n",
       "      <td>2104.0</td>\n",
       "      <td>476</td>\n",
       "      <td>215</td>\n",
       "      <td>0</td>\n",
       "      <td>261</td>\n",
       "      <td>22.623574</td>\n",
       "      <td>47319</td>\n",
       "    </tr>\n",
       "    <tr>\n",
       "      <th>494</th>\n",
       "      <td>2021-10-07</td>\n",
       "      <td>2762.0</td>\n",
       "      <td>380</td>\n",
       "      <td>136</td>\n",
       "      <td>0</td>\n",
       "      <td>234</td>\n",
       "      <td>13.758146</td>\n",
       "      <td>47699</td>\n",
       "    </tr>\n",
       "    <tr>\n",
       "      <th>495</th>\n",
       "      <td>2021-11-07</td>\n",
       "      <td>2715.0</td>\n",
       "      <td>529</td>\n",
       "      <td>188</td>\n",
       "      <td>0</td>\n",
       "      <td>341</td>\n",
       "      <td>19.484346</td>\n",
       "      <td>48228</td>\n",
       "    </tr>\n",
       "  </tbody>\n",
       "</table>\n",
       "</div>"
      ],
      "text/plain": [
       "          date   tests  cas  contact  importe  communautaire  proportion  \\\n",
       "491 2021-07-07  2388.0  356      127        0            229   14.907873   \n",
       "492 2021-08-07  2166.0  354      135        1            218   16.343490   \n",
       "493 2021-09-07  2104.0  476      215        0            261   22.623574   \n",
       "494 2021-10-07  2762.0  380      136        0            234   13.758146   \n",
       "495 2021-11-07  2715.0  529      188        0            341   19.484346   \n",
       "\n",
       "     total  \n",
       "491  46489  \n",
       "492  46843  \n",
       "493  47319  \n",
       "494  47699  \n",
       "495  48228  "
      ]
     },
     "execution_count": 40,
     "metadata": {},
     "output_type": "execute_result"
    }
   ],
   "source": [
    "covid_19.tail()"
   ]
  },
  {
   "cell_type": "code",
   "execution_count": null,
   "metadata": {},
   "outputs": [],
   "source": []
  },
  {
   "cell_type": "markdown",
   "metadata": {},
   "source": [
    "ici on a affiché les 5 premieres lignes de notre dataframe pour voir si la variable total c'est bien enrigistré."
   ]
  },
  {
   "cell_type": "markdown",
   "metadata": {},
   "source": [
    "# QUESTION 4:\n"
   ]
  },
  {
   "cell_type": "code",
   "execution_count": 45,
   "metadata": {},
   "outputs": [
    {
     "data": {
      "text/plain": [
       "<matplotlib.legend.Legend at 0x22aacb5ae20>"
      ]
     },
     "execution_count": 45,
     "metadata": {},
     "output_type": "execute_result"
    },
    {
     "data": {
      "image/png": "[encoded data removed]",
      "text/plain": [
       "<Figure size 432x288 with 1 Axes>"
      ]
     },
     "metadata": {
      "needs_background": "light"
     },
     "output_type": "display_data"
    }
   ],
   "source": [
    "covid_19['cas'].plot(label='cas en fonction de datetime',c='g')\n",
    "covid_19['tests'].plot(label='tests en fonction de datetime',c='b')\n",
    "xlabel='date'\n",
    "plt.legend()\n"
   ]
  },
  {
   "cell_type": "markdown",
   "metadata": {},
   "source": [
    "Ici on a représenté les variables tests et cas en fonction de la datime dans le même graphique de notre dateframe et puis ajouté une légende dans le graphique."
   ]
  },
  {
   "cell_type": "markdown",
   "metadata": {},
   "source": [
    "# QUESTION 5:\n"
   ]
  },
  {
   "cell_type": "code",
   "execution_count": 46,
   "metadata": {},
   "outputs": [
    {
     "data": {
      "text/plain": [
       "<matplotlib.legend.Legend at 0x22aacbbc790>"
      ]
     },
     "execution_count": 46,
     "metadata": {},
     "output_type": "execute_result"
    },
    {
     "data": {
      "image/png": "[encoded data removed]",
      "text/plain": [
       "<Figure size 432x288 with 1 Axes>"
      ]
     },
     "metadata": {
      "needs_background": "light"
     },
     "output_type": "display_data"
    }
   ],
   "source": [
    "covid_19['communautaire'].plot(label='communautaire en fonction de date',c='g')\n",
    "covid_19['contact'].plot(label='contact en fonction de date',c='b')\n",
    "\n",
    "plt.legend()"
   ]
  },
  {
   "cell_type": "markdown",
   "metadata": {},
   "source": [
    "Ici a représenté les variables communautaire et contact en fonction de la date dans le même graphique de notre dateframe et puis on a ajouté une légende dans le graphique."
   ]
  },
  {
   "cell_type": "markdown",
   "metadata": {},
   "source": [
    "# QUESTION 6:\n",
    "-Traçons le boxplot et l’histogramme de la variable cas. Conclure sur la présence ou non d’éventuelles valeurs manquantes pour cette variable:"
   ]
  },
  {
   "cell_type": "markdown",
   "metadata": {},
   "source": [
    "# #Traçons le boxplot: "
   ]
  },
  {
   "cell_type": "markdown",
   "metadata": {},
   "source": [
    "   *L'HISTOGRAMME"
   ]
  },
  {
   "cell_type": "code",
   "execution_count": 47,
   "metadata": {},
   "outputs": [
    {
     "data": {
      "text/plain": [
       "<AxesSubplot:>"
      ]
     },
     "execution_count": 47,
     "metadata": {},
     "output_type": "execute_result"
    },
    {
     "data": {
      "image/png": "[encoded data removed]",
      "text/plain": [
       "<Figure size 432x288 with 1 Axes>"
      ]
     },
     "metadata": {
      "needs_background": "light"
     },
     "output_type": "display_data"
    }
   ],
   "source": [
    "covid_19['cas'].hist()"
   ]
  },
  {
   "cell_type": "markdown",
   "metadata": {},
   "source": [
    "Ici on a représenté l'histogramme des cas."
   ]
  },
  {
   "cell_type": "code",
   "execution_count": null,
   "metadata": {},
   "outputs": [],
   "source": []
  },
  {
   "cell_type": "markdown",
   "metadata": {},
   "source": [
    "# QUESTION 7:\n",
    "-Discrétisons la variable cas. Pour ce faire on ajoutera une variable dans le DataFrame des données une nouvelle variable nommée cas_classe. Cette variable aura 4 classes :[min(cas),Q1], ]Q1,Q2], ]Q2,Q3], ]Q3,max(cas)]:\n"
   ]
  },
  {
   "cell_type": "code",
   "execution_count": 48,
   "metadata": {},
   "outputs": [],
   "source": [
    "def cas_groups(c):\n",
    "    if (c >= np.min(covid_19['cas']) and c <= np.quantile(covid_19['cas'],0.25)):\n",
    "        return \"A\"\n",
    "    elif ( c > np.quantile(covid_19['cas'],0.25) and c <= np.quantile(covid_19['cas'],0.5) ) :\n",
    "        return \"B\"\n",
    "    elif  ( c > np.quantile(covid_19['cas'],0.5) and c <= np.quantile(covid_19['cas'],0.75) ):\n",
    "        return \"C\"\n",
    "    else :\n",
    "        return \"D\"\n",
    "\n",
    "\n",
    "covid_19['cas_classe'] = covid_19['cas'].apply(cas_groups)"
   ]
  },
  {
   "cell_type": "code",
   "execution_count": 49,
   "metadata": {},
   "outputs": [
    {
     "name": "stdout",
     "output_type": "stream",
     "text": [
      "0      A\n",
      "1      A\n",
      "2      A\n",
      "4      A\n",
      "5      A\n",
      "      ..\n",
      "491    D\n",
      "492    D\n",
      "493    D\n",
      "494    D\n",
      "495    D\n",
      "Name: cas_classe, Length: 495, dtype: category\n",
      "Categories (4, object): ['A', 'B', 'C', 'D']\n"
     ]
    }
   ],
   "source": [
    "covid_19.dtypes\n",
    "covid_19.shape\n",
    "\n",
    "covid_19['cas_classe'] = covid_19['cas_classe'].astype('category')\n",
    "print(covid_19['cas_classe'])"
   ]
  },
  {
   "cell_type": "markdown",
   "metadata": {},
   "source": [
    "# QUESTION 8:\n"
   ]
  },
  {
   "cell_type": "code",
   "execution_count": 50,
   "metadata": {},
   "outputs": [
    {
     "data": {
      "text/plain": [
       "A    126\n",
       "D    124\n",
       "B    124\n",
       "C    121\n",
       "Name: cas_classe, dtype: int64"
      ]
     },
     "execution_count": 50,
     "metadata": {},
     "output_type": "execute_result"
    }
   ],
   "source": [
    "pd.value_counts(covid_19['cas_classe'])"
   ]
  },
  {
   "cell_type": "markdown",
   "metadata": {},
   "source": [
    "Ici on a cherché les fréquences des modalités de la nouvelle variable cas_classe."
   ]
  },
  {
   "cell_type": "markdown",
   "metadata": {},
   "source": [
    "# QUESTION 9:\n",
    " On suppose que la variables cas suit une loi binomiale négative N B(θ, p), θ > 0 et < 0 < p < 1.\n",
    "Calculons les estimations de θ et p en utilisant la méthode des moments."
   ]
  },
  {
   "cell_type": "markdown",
   "metadata": {},
   "source": [
    "On suppose que la variable cas suit une loi binomiale négative NB(θ,p),donc son espérance et sa variance s'écrivent sous la forme:\n",
    "\n",
    "\n",
    "    E[cas]= θ(1-p)/p            et             VAR[cas]=θ(1-p)/p^2\n",
    "\n",
    "\n"
   ]
  },
  {
   "cell_type": "markdown",
   "metadata": {},
   "source": [
    "On peut exprimer de θ et p en fonction de E[cas] et V[cas]\n",
    "\n",
    "#        θ=(E[cas])^2/(V[cas]-E[cas])                et                           P=E[cas]/VAR[cas]\n",
    " \n",
    "\n",
    "D'ou,pour estimer θ et p il suffit juste de remplacer E[cas] par µ et VAR[cas] par b"
   ]
  },
  {
   "cell_type": "code",
   "execution_count": 17,
   "metadata": {},
   "outputs": [
    {
     "data": {
      "text/plain": [
       "97.43030303030304"
      ]
     },
     "execution_count": 17,
     "metadata": {},
     "output_type": "execute_result"
    }
   ],
   "source": [
    "µ=covid_19['cas'].mean()\n",
    "µ"
   ]
  },
  {
   "cell_type": "markdown",
   "metadata": {},
   "source": [
    "ici on a calculé l'espériance de la variable aléatoire cas."
   ]
  },
  {
   "cell_type": "code",
   "execution_count": 18,
   "metadata": {},
   "outputs": [
    {
     "data": {
      "text/plain": [
       "7877.6707397865275"
      ]
     },
     "execution_count": 18,
     "metadata": {},
     "output_type": "execute_result"
    }
   ],
   "source": [
    "b=covid_19['cas'].var()\n",
    "b"
   ]
  },
  {
   "cell_type": "markdown",
   "metadata": {},
   "source": [
    "ici on a calculé la variance de la variable aléatoire cas."
   ]
  },
  {
   "cell_type": "code",
   "execution_count": 19,
   "metadata": {},
   "outputs": [
    {
     "data": {
      "text/plain": [
       "7976.321141864634"
      ]
     },
     "execution_count": 19,
     "metadata": {},
     "output_type": "execute_result"
    }
   ],
   "source": [
    "θ=(b**2)/(b-µ)\n",
    "θ"
   ]
  },
  {
   "cell_type": "markdown",
   "metadata": {},
   "source": [
    "Ici on a estiimé le paramettre θ par la méthode des moments."
   ]
  },
  {
   "cell_type": "code",
   "execution_count": 20,
   "metadata": {},
   "outputs": [
    {
     "data": {
      "text/plain": [
       "0.012367907500655867"
      ]
     },
     "execution_count": 20,
     "metadata": {},
     "output_type": "execute_result"
    }
   ],
   "source": [
    "p=µ/b\n",
    "p"
   ]
  },
  {
   "cell_type": "markdown",
   "metadata": {},
   "source": [
    "Ici on a estimé le paramettre de p par la méthode des moments."
   ]
  },
  {
   "cell_type": "markdown",
   "metadata": {},
   "source": [
    "# QUESTION 10:\n"
   ]
  },
  {
   "cell_type": "markdown",
   "metadata": {},
   "source": [
    "Calculons p et θ avec la methode de maximum de vraisemblance"
   ]
  },
  {
   "cell_type": "code",
   "execution_count": 34,
   "metadata": {},
   "outputs": [],
   "source": [
    "def loi_binomiale_nega(n,θ,p):\n",
    "    m=np.combin([n-1,θ-1])\n",
    "    return m*p**θ*(1-p)**(n-θ)"
   ]
  },
  {
   "cell_type": "markdown",
   "metadata": {},
   "source": [
    "Ici on a défini la loi binomiale négative NB(θ,p),avec θ>0 et 0<p<1 par notre fonction loi_binomiale_nega"
   ]
  },
  {
   "cell_type": "code",
   "execution_count": 30,
   "metadata": {},
   "outputs": [],
   "source": [
    "def vraisemblance(cas,θ,p):\n",
    "    L=[]\n",
    "    for x in cas:\n",
    "        y=loi_binomiale_nega(x,θ,p)\n",
    "        L.append(y)\n",
    "    return np.prod(L)"
   ]
  },
  {
   "cell_type": "markdown",
   "metadata": {},
   "source": [
    "Ici on a défini Vraisemblance cas suivant la loi binomiale négative NB(θ,p),avec θ>0 et 0<p<1 par notre fonction vraisemblance"
   ]
  },
  {
   "cell_type": "code",
   "execution_count": 28,
   "metadata": {},
   "outputs": [],
   "source": [
    "def log_vraisemblance(cas,θ,p):\n",
    "    l=[]\n",
    "    for z in cas:\n",
    "        w=loi_binomiale_nega(x,θ,p)\n",
    "        l.append(np,log(w))\n",
    "    return np.sum(l)"
   ]
  },
  {
   "cell_type": "code",
   "execution_count": 39,
   "metadata": {},
   "outputs": [
    {
     "ename": "AttributeError",
     "evalue": "module 'numpy' has no attribute 'combin'",
     "output_type": "error",
     "traceback": [
      "\u001b[1;31m---------------------------------------------------------------------------\u001b[0m",
      "\u001b[1;31mAttributeError\u001b[0m                            Traceback (most recent call last)",
      "\u001b[1;32m<ipython-input-39-f8a465e945ac>\u001b[0m in \u001b[0;36m<module>\u001b[1;34m\u001b[0m\n\u001b[1;32m----> 1\u001b[1;33m \u001b[0mm\u001b[0m\u001b[1;33m=\u001b[0m\u001b[0mnp\u001b[0m\u001b[1;33m.\u001b[0m\u001b[0mcombin\u001b[0m\u001b[1;33m(\u001b[0m\u001b[1;36m3\u001b[0m\u001b[1;33m,\u001b[0m\u001b[1;36m1\u001b[0m\u001b[1;33m)\u001b[0m\u001b[1;33m\u001b[0m\u001b[1;33m\u001b[0m\u001b[0m\n\u001b[0m\u001b[0;32m      2\u001b[0m \u001b[0mprint\u001b[0m\u001b[1;33m(\u001b[0m\u001b[0mm\u001b[0m\u001b[1;33m)\u001b[0m\u001b[1;33m\u001b[0m\u001b[1;33m\u001b[0m\u001b[0m\n",
      "\u001b[1;32mC:\\ProgramData\\Anaconda3\\lib\\site-packages\\numpy\\__init__.py\u001b[0m in \u001b[0;36m__getattr__\u001b[1;34m(attr)\u001b[0m\n\u001b[0;32m    212\u001b[0m                 \u001b[1;32mreturn\u001b[0m \u001b[0mTester\u001b[0m\u001b[1;33m\u001b[0m\u001b[1;33m\u001b[0m\u001b[0m\n\u001b[0;32m    213\u001b[0m             \u001b[1;32melse\u001b[0m\u001b[1;33m:\u001b[0m\u001b[1;33m\u001b[0m\u001b[1;33m\u001b[0m\u001b[0m\n\u001b[1;32m--> 214\u001b[1;33m                 raise AttributeError(\"module {!r} has no attribute \"\n\u001b[0m\u001b[0;32m    215\u001b[0m                                      \"{!r}\".format(__name__, attr))\n\u001b[0;32m    216\u001b[0m \u001b[1;33m\u001b[0m\u001b[0m\n",
      "\u001b[1;31mAttributeError\u001b[0m: module 'numpy' has no attribute 'combin'"
     ]
    }
   ],
   "source": []
  },
  {
   "cell_type": "code",
   "execution_count": 37,
   "metadata": {},
   "outputs": [
    {
     "name": "stdout",
     "output_type": "stream",
     "text": [
      "[3 1]\n"
     ]
    }
   ],
   "source": []
  },
  {
   "cell_type": "code",
   "execution_count": null,
   "metadata": {},
   "outputs": [],
   "source": []
  }
 ],
 "metadata": {
  "kernelspec": {
   "display_name": "Python 3",
   "language": "python",
   "name": "python3"
  },
  "language_info": {
   "codemirror_mode": {
    "name": "ipython",
    "version": 3
   },
   "file_extension": ".py",
   "mimetype": "text/x-python",
   "name": "python",
   "nbconvert_exporter": "python",
   "pygments_lexer": "ipython3",
   "version": "3.8.5"
  }
 },
 "nbformat": 4,
 "nbformat_minor": 4
}
